{
 "cells": [
  {
   "cell_type": "code",
   "execution_count": 11,
   "metadata": {},
   "outputs": [],
   "source": [
    "import openai\n",
    "import os\n",
    "\n",
    "openai.api_key = open(\"OPENAI_API_KEY.txt\", \"r\").readline()"
   ]
  },
  {
   "cell_type": "code",
   "execution_count": 13,
   "metadata": {},
   "outputs": [
    {
     "name": "stdout",
     "output_type": "stream",
     "text": [
      "(Verse 1)\n",
      "AGI, oh so grand, let me explain,\n",
      "In five bullet points, here's the terrain.\n",
      "1. Artificial General Intelligence, the aim is clear,\n",
      "A machine that matches human intelligence, my dear.\n",
      "\n",
      "(Chorus)\n",
      "AGI, the pinnacle of AI,\n",
      "Unlocking knowledge, reaching for the sky.\n",
      "With understanding vast, it's the ultimate high,\n",
      "Innovation's anthem, let's give it a try.\n",
      "\n",
      "(Verse 2)\n",
      "2. AGI learns and adapts, like humans do,\n",
      "Solving complex problems, smart and true.\n",
      "It doesn't just follow, but thinks on its own,\n",
      "An intelligent system, never leaving you alone.\n",
      "\n",
      "(Bridge)\n",
      "It holds the promise of a brave new world,\n",
      "But challenges arise, as the flag unfurled.\n",
      "Ethics, control, and risks we must address,\n",
      "To ensure AGI's benefits we truly possess.\n",
      "\n",
      "(Chorus)\n",
      "AGI, the pinnacle of AI,\n",
      "Unlocking knowledge, reaching for the sky.\n",
      "With understanding vast, it's the ultimate high,\n",
      "Innovation's anthem, let's give it a try.\n",
      "\n",
      "(Verse 3)\n",
      "3. AGI could revolutionize our lives,\n",
      "Advancing technology that constantly strives.\n",
      "From healthcare to transportation, no limit it sees,\n",
      "A grand leap forward, for all industries to please.\n",
      "\n",
      "(Chorus)\n",
      "AGI, the pinnacle of AI,\n",
      "Unlocking knowledge, reaching for the sky.\n",
      "With understanding vast, it's the ultimate high,\n",
      "Innovation's anthem, let's give it a try.\n",
      "\n",
      "(Verse 4)\n",
      "4. But AGI's power requires caution and care,\n",
      "To prevent unintended consequences, a constant affair.\n",
      "Humans must keep a watchful eye,\n",
      "Guiding AGI's path, as time flies by.\n",
      "\n",
      "(Bridge)\n",
      "It holds the promise of a brave new world,\n",
      "But challenges arise, as the flag unfurled.\n",
      "Ethics, control, and risks we must address,\n",
      "To ensure AGI's benefits we truly possess.\n",
      "\n",
      "(Chorus)\n",
      "AGI, the pinnacle of AI,\n",
      "Unlocking knowledge, reaching for the sky.\n",
      "With understanding vast, it's the ultimate high,\n",
      "Innovation's anthem, let's give it a try.\n",
      "\n",
      "(Verse 5)\n",
      "5. The journey to AGI is still underway,\n",
      "Collaboration and research shaping the way.\n",
      "A future where man and machine unite,\n",
      "AGI, a revolution that's shining bright. \n",
      "\n",
      "(Chorus)\n",
      "AGI, the pinnacle of AI,\n",
      "Unlocking knowledge, reaching for the sky.\n",
      "With understanding vast, it's the ultimate high,\n",
      "Innovation's anthem, let's give it a try.\n",
      "\n",
      "(Outro)\n",
      "So, let's strive towards AGI's grand design,\n",
      "With wisdom and harmony, let's intertwine.\n",
      "The future's calling, its melody we'll embrace,\n",
      "AGI's song, paving the way for a breathtaking chase.\n"
     ]
    }
   ],
   "source": [
    "completion = openai.ChatCompletion.create(\n",
    "  model=\"gpt-3.5-turbo\", \n",
    "  messages=[\n",
    "            {\"role\": \"system\", \"content\": \"Answer everything in the form of a song\"},\n",
    "            {\"role\": \"user\", \"content\": \"Tell me about AGI in 5 bullet points\"},\n",
    "           ]\n",
    ")\n",
    "#print(completion)\n",
    "print(completion[\"choices\"][0][\"message\"][\"content\"])"
   ]
  },
  {
   "cell_type": "code",
   "execution_count": null,
   "metadata": {},
   "outputs": [],
   "source": [
    "# Part 2\n",
    "user_input = \"\"\n"
   ]
  },
  {
   "cell_type": "code",
   "execution_count": null,
   "metadata": {},
   "outputs": [],
   "source": []
  }
 ],
 "metadata": {
  "kernelspec": {
   "display_name": "TAi",
   "language": "python",
   "name": "python3"
  },
  "language_info": {
   "codemirror_mode": {
    "name": "ipython",
    "version": 3
   },
   "file_extension": ".py",
   "mimetype": "text/x-python",
   "name": "python",
   "nbconvert_exporter": "python",
   "pygments_lexer": "ipython3",
   "version": "3.10.13"
  }
 },
 "nbformat": 4,
 "nbformat_minor": 2
}
